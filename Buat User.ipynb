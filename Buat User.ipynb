{
 "cells": [
  {
   "cell_type": "code",
   "execution_count": 129,
   "id": "89359cfd",
   "metadata": {},
   "outputs": [],
   "source": [
    "# Data wrangling\n",
    "import pandas as pd\n",
    "import numpy as np\n",
    "\n",
    "# for Visulization\n",
    "import matplotlib.pyplot as plt\n",
    "%matplotlib inline\n",
    "import seaborn as sns\n",
    "sns.set_style(\"darkgrid\")\n",
    "\n",
    "# data preprocessing\n",
    "from sklearn.model_selection import train_test_split\n",
    "from sklearn.compose import ColumnTransformer\n",
    "from sklearn.metrics import accuracy_score\n",
    "\n",
    "#Dataset masuk\n",
    "df2 = pd.read_csv('./laptops_test.csv')\n",
    "df1 = pd.read_csv('./laptop_data.csv')"
   ]
  },
  {
   "cell_type": "code",
   "execution_count": 130,
   "id": "b7d8e6f2",
   "metadata": {},
   "outputs": [],
   "source": [
    "# Ganti nama fitur \"Manufactur\" -> \"Company\"\n",
    "df2 = df2.rename(columns={'Manufacturer' : 'Company'})\n",
    "\n",
    "# Ganti nama fitur \"Category\" -> \"TypeName\"\n",
    "df2 = df2.rename(columns={'Category' : 'TypeName'})\n",
    "\n",
    "# Ganti nama fitur CPU\" -> \"Cpu\"\n",
    "df2 = df2.rename(columns={\"CPU\": \"Cpu\"})\n",
    "\n",
    "# Ganti nama fitur \"RAM\" -> \"Ram\"\n",
    "df2 = df2.rename(columns={\"RAM\": \"Ram\"})\n",
    "\n",
    "# Ganti nama fitur \"Storage\" -> \"Memory\"\n",
    "df2 = df2.rename(columns={\"Storage\": \"Memory\"})\n",
    "\n",
    "# Ganti nama fitur \"GPU\" -> \"Gpu \"\n",
    "df2 = df2.rename(columns={\"GPU\": \"Gpu \"})\n",
    "\n",
    "# Ganti nama fitur \"Storage\" -> \"Memory\"\n",
    "df1 = df1.rename(columns={\"Memory\": \"Storage\"})"
   ]
  },
  {
   "cell_type": "code",
   "execution_count": 131,
   "id": "c1eb35d7",
   "metadata": {},
   "outputs": [],
   "source": [
    "#Gabungin Buat Identitas Laptop\n",
    "df1['Nama'] = df1.apply(lambda row: row['Company'] + \" \" + row['TypeName'] + \" \" + row['Cpu']+ \" \" + row['Ram'] , axis = 1)\n",
    "\n",
    "#Gabungin Buat Identitas Laptop\n",
    "df2['Nama'] = df2.apply(lambda row: row['Company'] + \" \" + row['TypeName'] + \" \" + row['Cpu']+ \" \" + row['Ram'] , axis = 1)\n",
    "df2['Price'] = df2['Price'] / 100 "
   ]
  },
  {
   "cell_type": "code",
   "execution_count": 132,
   "id": "15087b3a",
   "metadata": {},
   "outputs": [],
   "source": [
    "df0 = pd.concat([df1, df2], ignore_index=False)"
   ]
  },
  {
   "cell_type": "code",
   "execution_count": 133,
   "id": "a797c1c3",
   "metadata": {},
   "outputs": [],
   "source": [
    "df0 = df0.drop([\"Inches\", \"Unnamed: 0\", \"Screen Size\", \"Screen\", \"Model Name\", \"ScreenResolution\", \"Weight\", \"Operating System\", \"Operating System Version\"], axis = 1)"
   ]
  },
  {
   "cell_type": "code",
   "execution_count": 134,
   "id": "027c2ff8",
   "metadata": {},
   "outputs": [],
   "source": [
    "# Removing the GB string form Ram column\n",
    "df0['Ram'] = df0['Ram'].str.replace('GB', '')\n",
    "# Changing the dtype of column - Ram and Weight Column\n",
    "df0['Ram'] = df0['Ram'].astype('int32')"
   ]
  },
  {
   "cell_type": "code",
   "execution_count": 135,
   "id": "dd67f0e8",
   "metadata": {},
   "outputs": [],
   "source": [
    "# Memisahkan fitur storage menjadi daftar substring\n",
    "split_prosesor = df0[\"Cpu\"].str.split(\" \")\n",
    "\n",
    "# Mengambil angka frekuensi CPU\n",
    "frekuensi_cpu = split_prosesor.str[-1]\n",
    "\n",
    "# Mengkonversi frekuensi CPU ke float\n",
    "df0[\"Cpu\"] = frekuensi_cpu.str.replace(\"GHz\", \"\")\n",
    "df0[\"Cpu\"] = df0['Cpu'].astype('float32')"
   ]
  },
  {
   "cell_type": "code",
   "execution_count": 136,
   "id": "410c7389",
   "metadata": {},
   "outputs": [],
   "source": [
    "# Replace type values\n",
    "# berdasarkan persebaran dan rata-rata yang sudah ditampilkan\n",
    "df0[\"TypeName\"] = df0[\"TypeName\"].replace({\n",
    "    \"2 in 1 Convertible\": 3,\n",
    "    \"Gaming\": 6,\n",
    "    \"Netbook\": 1,\n",
    "    \"Notebook\": 2,\n",
    "    \"Ultrabook\": 4,\n",
    "    \"Workstation\" : 5\n",
    "})"
   ]
  },
  {
   "cell_type": "code",
   "execution_count": 137,
   "id": "04db8c50",
   "metadata": {},
   "outputs": [],
   "source": [
    "#Karena Nama Berpengaruh pada program\n",
    "# Hapus data duplikat berdasarkan kolom \"nama\"\n",
    "df0 = df0.drop_duplicates()"
   ]
  },
  {
   "cell_type": "code",
   "execution_count": 138,
   "id": "f271b04e",
   "metadata": {},
   "outputs": [],
   "source": [
    "#Price Process\n",
    "#INR to IDR\n",
    "df0['Price'] = df0['Price'] * 188.31 \n",
    "\n",
    "#Redominasi\n",
    "df0['Price'] = df0['Price'] / 1000000\n",
    "\n",
    "#Penurunan harga\n",
    "df0['Price'] = df0['Price'] - (25/100 * df0['Price'])"
   ]
  },
  {
   "cell_type": "code",
   "execution_count": 139,
   "id": "4137d720",
   "metadata": {},
   "outputs": [],
   "source": [
    "#Input Prediktor\n",
    "X = df0[['TypeName', 'Price', 'Ram']]\n",
    "y = df0['Cpu']"
   ]
  },
  {
   "cell_type": "code",
   "execution_count": 140,
   "id": "9fea61fb",
   "metadata": {},
   "outputs": [
    {
     "name": "stdout",
     "output_type": "stream",
     "text": [
      "Evaluasi Cpu :  0.03798289\n"
     ]
    }
   ],
   "source": [
    "from sklearn.neighbors import KNeighborsRegressor\n",
    "knn = KNeighborsRegressor(n_neighbors=1)\n",
    "\n",
    "knn.fit(X, y)\n",
    "\n",
    "# Predict the labels for the test data\n",
    "y_pred = knn.predict(X)\n",
    "df0['Cpu'] = y_pred\n",
    "\n",
    "# Calculate the accuracy score\n",
    "mse = np.mean((y - y_pred)**2)\n",
    "print(\"Evaluasi Cpu : \", mse)"
   ]
  },
  {
   "cell_type": "code",
   "execution_count": 141,
   "id": "66cb757c",
   "metadata": {},
   "outputs": [
    {
     "name": "stdout",
     "output_type": "stream",
     "text": [
      "Halo!! ini input pencarian laptop untuk pemula\n",
      "\n",
      "Masukkan Tipe Laptop: Ultrabook\n",
      "Masukkan Budget: 20\n",
      "['Toshiba Ultrabook Intel Core i5 6200U 2.3GHz 8GB']\n"
     ]
    },
    {
     "name": "stderr",
     "output_type": "stream",
     "text": [
      "C:\\Users\\ragil\\anaconda3\\Lib\\site-packages\\sklearn\\base.py:464: UserWarning: X does not have valid feature names, but KNeighborsClassifier was fitted with feature names\n",
      "  warnings.warn(\n"
     ]
    }
   ],
   "source": [
    "from sklearn.neighbors import KNeighborsClassifier\n",
    "\n",
    "def proses(tipe, price) :\n",
    "    \n",
    "    encoder = {\n",
    "        \"2 in 1 Convertible\": 3,\n",
    "        \"Gaming\": 6,\n",
    "        \"Netbook\": 1,\n",
    "        \"Notebook\": 2,\n",
    "        \"Ultrabook\": 4,\n",
    "        \"Workstation\" : 5\n",
    "        }\n",
    "    \n",
    "    laptop = ''\n",
    "    x1 = [[encoder[tipe], price]]\n",
    "    \n",
    "    X = df0[['TypeName', 'Price']]\n",
    "    y = df0['Nama']\n",
    "    \n",
    "    knn2 = KNeighborsClassifier(n_neighbors=1)\n",
    "    knn2.fit(X, y)\n",
    "\n",
    "    # Predict the labels for the test data\n",
    "    laptop = knn2.predict(x1)\n",
    "    \n",
    "    print(laptop)\n",
    "    \n",
    "print(\"Halo!! ini input pencarian laptop untuk pemula\\n\")\n",
    "tipe = input(\"Masukkan Tipe Laptop: \")\n",
    "price = int(input(\"Masukkan Budget: \"))\n",
    "\n",
    "proses(tipe, price)"
   ]
  },
  {
   "cell_type": "code",
   "execution_count": 142,
   "id": "073703a5",
   "metadata": {},
   "outputs": [
    {
     "name": "stdout",
     "output_type": "stream",
     "text": [
      "Halo!! ini input pencarian laptop\n",
      "\n",
      "Masukkan Tipe Laptop : Ultrabook\n",
      "Masukkan Budget (Jt): 20\n",
      "Masukkan RAM (GB): 32\n",
      "Masukkan CPU (Ghz): 3\n",
      "['Toshiba Ultrabook Intel Core i7 7500U 2.7GHz 32GB']\n"
     ]
    },
    {
     "name": "stderr",
     "output_type": "stream",
     "text": [
      "C:\\Users\\ragil\\anaconda3\\Lib\\site-packages\\sklearn\\base.py:464: UserWarning: X does not have valid feature names, but KNeighborsClassifier was fitted with feature names\n",
      "  warnings.warn(\n"
     ]
    }
   ],
   "source": [
    "def proses2(tipe, price, ram, cpu) :\n",
    "    \n",
    "    encoder = {\n",
    "        \"2 in 1 Convertible\": 3,\n",
    "        \"Gaming\": 6,\n",
    "        \"Netbook\": 1,\n",
    "        \"Notebook\": 2,\n",
    "        \"Ultrabook\": 4,\n",
    "        \"Workstation\" : 5\n",
    "        }\n",
    "    \n",
    "    laptop1 = ''\n",
    "    x1 = [[encoder[tipe], price, ram, cpu]]\n",
    "    \n",
    "    X = df0[['TypeName', 'Price','Ram', 'Cpu']]\n",
    "    y = df0['Nama']\n",
    "    \n",
    "    knn3 = KNeighborsClassifier(n_neighbors=1)\n",
    "    knn3.fit(X, y)\n",
    "\n",
    "    # Predict the labels for the test data\n",
    "    laptop1 = knn3.predict(x1)\n",
    "    \n",
    "    print(laptop1)\n",
    "    \n",
    "print(\"Halo!! ini input pencarian laptop\\n\")\n",
    "tipe = input(\"Masukkan Tipe Laptop : \")\n",
    "price = int(input(\"Masukkan Budget (Jt): \"))\n",
    "ram = int(input(\"Masukkan RAM (GB): \"))\n",
    "cpu = float(input(\"Masukkan CPU (Ghz): \"))\n",
    "\n",
    "proses2(tipe, price, ram, cpu)"
   ]
  }
 ],
 "metadata": {
  "kernelspec": {
   "display_name": "Python 3 (ipykernel)",
   "language": "python",
   "name": "python3"
  },
  "language_info": {
   "codemirror_mode": {
    "name": "ipython",
    "version": 3
   },
   "file_extension": ".py",
   "mimetype": "text/x-python",
   "name": "python",
   "nbconvert_exporter": "python",
   "pygments_lexer": "ipython3",
   "version": "3.11.5"
  }
 },
 "nbformat": 4,
 "nbformat_minor": 5
}
